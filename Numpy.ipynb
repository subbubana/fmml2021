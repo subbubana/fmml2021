{
  "nbformat": 4,
  "nbformat_minor": 0,
  "metadata": {
    "colab": {
      "provenance": [],
      "toc_visible": true,
      "authorship_tag": "ABX9TyMEme3iPYC4idOTMgN2vxxw",
      "include_colab_link": true
    },
    "kernelspec": {
      "name": "python3",
      "display_name": "Python 3"
    },
    "language_info": {
      "name": "python"
    }
  },
  "cells": [
    {
      "cell_type": "markdown",
      "metadata": {
        "id": "view-in-github",
        "colab_type": "text"
      },
      "source": [
        "<a href=\"https://colab.research.google.com/github/subbubana/fmml2021/blob/main/Numpy.ipynb\" target=\"_parent\"><img src=\"https://colab.research.google.com/assets/colab-badge.svg\" alt=\"Open In Colab\"/></a>"
      ]
    },
    {
      "cell_type": "code",
      "execution_count": null,
      "metadata": {
        "id": "tRAsHD_Jtf3R"
      },
      "outputs": [],
      "source": [
        "import numpy as np\n"
      ]
    },
    {
      "cell_type": "markdown",
      "source": [
        "# The basics\n"
      ],
      "metadata": {
        "id": "ZkuEszseuqKB"
      }
    },
    {
      "cell_type": "code",
      "source": [
        "a = np.array([1,2,3], dtype=\"int16\") # by default int takes \"int64\"\n",
        "print(a)\n",
        "print(a.ndim) # print the dimensions of the array\n",
        "print(a.shape) # prints the shape of the array"
      ],
      "metadata": {
        "colab": {
          "base_uri": "https://localhost:8080/"
        },
        "id": "e40KTMlWuvIN",
        "outputId": "a017867d-875a-4b5e-aea3-4936ee5ae4ad"
      },
      "execution_count": null,
      "outputs": [
        {
          "output_type": "stream",
          "name": "stdout",
          "text": [
            "[1 2 3]\n",
            "1\n",
            "(3,)\n"
          ]
        }
      ]
    },
    {
      "cell_type": "code",
      "source": [
        "b = np.array([[1.0,2,3],[5,6,7]]) # the interger values are typecasted to float as float has high priority\n",
        "print(b)\n",
        "print(b.shape)\n",
        "print(b.ndim)"
      ],
      "metadata": {
        "colab": {
          "base_uri": "https://localhost:8080/"
        },
        "id": "R13oQxUpu2Kv",
        "outputId": "9188a330-a791-41e4-8fce-03a40648b9f8"
      },
      "execution_count": null,
      "outputs": [
        {
          "output_type": "stream",
          "name": "stdout",
          "text": [
            "[[1. 2. 3.]\n",
            " [5. 6. 7.]]\n",
            "(2, 3)\n",
            "2\n"
          ]
        }
      ]
    },
    {
      "cell_type": "code",
      "source": [
        "#get the type of the array\n",
        "b.dtype"
      ],
      "metadata": {
        "colab": {
          "base_uri": "https://localhost:8080/"
        },
        "id": "AcgEhPYKws4-",
        "outputId": "302f6e31-d4a6-47ed-9a66-e239f5d4d8b3"
      },
      "execution_count": null,
      "outputs": [
        {
          "output_type": "execute_result",
          "data": {
            "text/plain": [
              "dtype('float64')"
            ]
          },
          "metadata": {},
          "execution_count": 30
        }
      ]
    },
    {
      "cell_type": "code",
      "source": [
        "#size of an element\n",
        "itm_size = a.itemsize # retuns the size of element in bytes\n",
        "total_size = a.nbytes # returns total size of the array in bytes\n",
        "print(itm_size, total_size)"
      ],
      "metadata": {
        "colab": {
          "base_uri": "https://localhost:8080/"
        },
        "id": "zD7Nji66wNwQ",
        "outputId": "8b698912-d46c-43e7-ea3a-0b5d7fb98bd5"
      },
      "execution_count": null,
      "outputs": [
        {
          "output_type": "stream",
          "name": "stdout",
          "text": [
            "2 6\n"
          ]
        }
      ]
    },
    {
      "cell_type": "markdown",
      "source": [
        "**Accessing/changing specific elements, rows or columns**\n",
        "Accessing the elements in an array is similar to a list for 1D array. While accessing the elements in the nD arrays, you will have to mention the postion in each dimension to access the element."
      ],
      "metadata": {
        "id": "EVbs4MUnyTqb"
      }
    },
    {
      "cell_type": "code",
      "source": [
        "#Lets do some array operations; redeclaring the array 'a'\n",
        "a = np.array([[2,3,5,4,1,8,9],[9,5,4,3,8,2,1]])\n",
        "print(a)\n",
        "print(a.shape)"
      ],
      "metadata": {
        "colab": {
          "base_uri": "https://localhost:8080/"
        },
        "id": "tiW-ic8uwN2L",
        "outputId": "e3279145-aa30-4d45-deb9-7a164d4e22b9"
      },
      "execution_count": null,
      "outputs": [
        {
          "output_type": "stream",
          "name": "stdout",
          "text": [
            "[[2 3 5 4 1 8 9]\n",
            " [9 5 4 3 8 2 1]]\n",
            "(2, 7)\n"
          ]
        }
      ]
    },
    {
      "cell_type": "code",
      "source": [
        "#accessing the items -- specify row and column\n",
        "a[1,5] # second row and sixth column"
      ],
      "metadata": {
        "colab": {
          "base_uri": "https://localhost:8080/"
        },
        "id": "yakv2QAtwN4z",
        "outputId": "1800becb-4fa0-4737-bd5f-abe16f71e651"
      },
      "execution_count": null,
      "outputs": [
        {
          "output_type": "execute_result",
          "data": {
            "text/plain": [
              "2"
            ]
          },
          "metadata": {},
          "execution_count": 38
        }
      ]
    },
    {
      "cell_type": "code",
      "source": [
        "print(a[0,:]) # to get first row of elements\n",
        "print(a[:,1]) # to get second column of elements"
      ],
      "metadata": {
        "colab": {
          "base_uri": "https://localhost:8080/"
        },
        "id": "hODDsrRMxErm",
        "outputId": "700f868a-8227-4acd-87bd-5bf012e3aa35"
      },
      "execution_count": null,
      "outputs": [
        {
          "output_type": "stream",
          "name": "stdout",
          "text": [
            "[2 3 5 4 1 8 9]\n",
            "[3 5]\n"
          ]
        }
      ]
    },
    {
      "cell_type": "code",
      "source": [
        "#giving the step size while printing the elemetns [startindex:stopindex:stepsize]\n",
        "print(a[1,::2]) # print the second row of elements with a step size of 2\n",
        "\n",
        "#can also try negative indexing\n",
        "print(a)\n",
        "print(a[0,1:5:-2])\n",
        "print(a[0,::-2])"
      ],
      "metadata": {
        "colab": {
          "base_uri": "https://localhost:8080/"
        },
        "id": "Tpc2-kpJz1lv",
        "outputId": "6667a77b-1793-407d-befc-6af0bfd72fda"
      },
      "execution_count": 53,
      "outputs": [
        {
          "output_type": "stream",
          "name": "stdout",
          "text": [
            "[9 4 8 1]\n",
            "[[ 2 20  5  4  1 10  9]\n",
            " [ 9 21  4  3  8 10  1]]\n",
            "[]\n",
            "[9 1 5 2]\n"
          ]
        }
      ]
    },
    {
      "cell_type": "code",
      "source": [
        "#Updating the values in an array\n",
        "a[1,5] = 100 # changing value in a certain position\n",
        "print(a)\n",
        "a[:,5]=10 #all specified elements will take value 10\n",
        "print(a)\n",
        "a[:,1] = [20,21] # giving equal number of values for positions\n",
        "print(a)"
      ],
      "metadata": {
        "colab": {
          "base_uri": "https://localhost:8080/"
        },
        "id": "S3-O0DLmz59u",
        "outputId": "9a0138f5-929a-4403-e422-666c65b02d02"
      },
      "execution_count": null,
      "outputs": [
        {
          "output_type": "stream",
          "name": "stdout",
          "text": [
            "[[  2   3   5   4   1   8   9]\n",
            " [  9   5   4   3   8 100   1]]\n",
            "[[ 2  3  5  4  1 10  9]\n",
            " [ 9  5  4  3  8 10  1]]\n",
            "[[ 2 20  5  4  1 10  9]\n",
            " [ 9 21  4  3  8 10  1]]\n"
          ]
        }
      ]
    },
    {
      "cell_type": "code",
      "source": [
        "#3D array\n",
        "c = np.array([[[1,2],[3,4]],[[5,6],[7,8]]])\n",
        "print(c)\n",
        "print(c.ndim)\n",
        "print(c.shape)"
      ],
      "metadata": {
        "colab": {
          "base_uri": "https://localhost:8080/"
        },
        "id": "nvdK3aMvHQNi",
        "outputId": "3a5d6dec-1ef0-479e-aaf6-47df1c8dd618"
      },
      "execution_count": 55,
      "outputs": [
        {
          "output_type": "stream",
          "name": "stdout",
          "text": [
            "[[[1 2]\n",
            "  [3 4]]\n",
            "\n",
            " [[5 6]\n",
            "  [7 8]]]\n",
            "3\n",
            "(2, 2, 2)\n"
          ]
        }
      ]
    },
    {
      "cell_type": "code",
      "source": [
        "#get sepcific element -- work outside in\n",
        "print(c[0,1,1]) # prints 4\n",
        "print(c[1,0,1]) # prints 6"
      ],
      "metadata": {
        "colab": {
          "base_uri": "https://localhost:8080/"
        },
        "id": "oSbPKuJLHZWc",
        "outputId": "fc73b870-afd1-419f-e140-d5fa7ebc1e68"
      },
      "execution_count": 58,
      "outputs": [
        {
          "output_type": "stream",
          "name": "stdout",
          "text": [
            "4\n",
            "6\n"
          ]
        }
      ]
    },
    {
      "cell_type": "code",
      "source": [
        "# replacing specific elements -- check the error\n",
        "c[:,1,:1] = [[9,10]]\n",
        "print(c)"
      ],
      "metadata": {
        "id": "9LzvSeh8H1NF"
      },
      "execution_count": null,
      "outputs": []
    },
    {
      "cell_type": "code",
      "source": [
        "c[:,1,:1] = [[9],[10]]\n",
        "print(c)"
      ],
      "metadata": {
        "colab": {
          "base_uri": "https://localhost:8080/"
        },
        "id": "snyT4lvzIHjQ",
        "outputId": "0a9ac1d0-539a-479f-e2e1-897453e97b66"
      },
      "execution_count": 68,
      "outputs": [
        {
          "output_type": "stream",
          "name": "stdout",
          "text": [
            "[[[ 1  2]\n",
            "  [ 9  4]]\n",
            "\n",
            " [[ 5  6]\n",
            "  [10  8]]]\n"
          ]
        }
      ]
    },
    {
      "cell_type": "markdown",
      "source": [
        "# Initializing different types of arrays"
      ],
      "metadata": {
        "id": "FmRy0O4tJLKt"
      }
    },
    {
      "cell_type": "code",
      "source": [
        "#All zeros matrix\n",
        "np.zeros((2,3,4),dtype=\"int32\")"
      ],
      "metadata": {
        "id": "RKDw5crwJDYU"
      },
      "execution_count": null,
      "outputs": []
    },
    {
      "cell_type": "code",
      "source": [
        "#all ones\n",
        "np.ones((4,2))"
      ],
      "metadata": {
        "colab": {
          "base_uri": "https://localhost:8080/"
        },
        "id": "MTxscb0iJR3k",
        "outputId": "3d24d44b-49ba-43d8-a5a9-b6abf98217f9"
      },
      "execution_count": 76,
      "outputs": [
        {
          "output_type": "execute_result",
          "data": {
            "text/plain": [
              "array([[1., 1.],\n",
              "       [1., 1.],\n",
              "       [1., 1.],\n",
              "       [1., 1.]])"
            ]
          },
          "metadata": {},
          "execution_count": 76
        }
      ]
    },
    {
      "cell_type": "code",
      "source": [
        "#any other numner\n",
        "full_arr = np.full((2,3),10,dtype=\"float\")\n",
        "print(full_arr.itemsize)\n",
        "print(full_arr)"
      ],
      "metadata": {
        "colab": {
          "base_uri": "https://localhost:8080/"
        },
        "id": "Rz7ytW4BJh8E",
        "outputId": "42361a21-dd4e-4f64-b341-a617e8a03129"
      },
      "execution_count": 81,
      "outputs": [
        {
          "output_type": "stream",
          "name": "stdout",
          "text": [
            "8\n",
            "[[10. 10. 10.]\n",
            " [10. 10. 10.]]\n"
          ]
        }
      ]
    },
    {
      "cell_type": "code",
      "source": [
        "# full_like uses the shape of existing array\n",
        "np.full_like(full_arr,20)"
      ],
      "metadata": {
        "colab": {
          "base_uri": "https://localhost:8080/"
        },
        "id": "d-n-Ra3SKI5p",
        "outputId": "b1149fea-e4a6-4697-a246-d3e63e5b5228"
      },
      "execution_count": 82,
      "outputs": [
        {
          "output_type": "execute_result",
          "data": {
            "text/plain": [
              "array([[20., 20., 20.],\n",
              "       [20., 20., 20.]])"
            ]
          },
          "metadata": {},
          "execution_count": 82
        }
      ]
    },
    {
      "cell_type": "code",
      "source": [
        "#initializing array with random values\n",
        "np.random.rand(2,3) # decimals\n",
        "np.random.randint(10,20,size=(3,3)) # array with random integer values in the randge 10 to 20"
      ],
      "metadata": {
        "colab": {
          "base_uri": "https://localhost:8080/"
        },
        "id": "iim65o6uKRac",
        "outputId": "f9d13cbc-a811-4092-af6d-80d7387464f7"
      },
      "execution_count": 90,
      "outputs": [
        {
          "output_type": "execute_result",
          "data": {
            "text/plain": [
              "array([[18, 15, 10],\n",
              "       [15, 15, 10],\n",
              "       [10, 13, 12]])"
            ]
          },
          "metadata": {},
          "execution_count": 90
        }
      ]
    },
    {
      "cell_type": "code",
      "source": [
        "np.random.random_sample(a.shape)"
      ],
      "metadata": {
        "colab": {
          "base_uri": "https://localhost:8080/"
        },
        "id": "nh9FPuBIP56-",
        "outputId": "2b7fcd16-ee11-4858-db32-9071d9776754"
      },
      "execution_count": 86,
      "outputs": [
        {
          "output_type": "execute_result",
          "data": {
            "text/plain": [
              "array([[0.85211086, 0.42422809, 0.34751556, 0.95666573, 0.71061887,\n",
              "        0.26073621, 0.29153818],\n",
              "       [0.52476022, 0.8368856 , 0.0723494 , 0.24124029, 0.7619537 ,\n",
              "        0.49105741, 0.7755865 ]])"
            ]
          },
          "metadata": {},
          "execution_count": 86
        }
      ]
    },
    {
      "cell_type": "code",
      "source": [
        "#The identity matrix is a square matrix\n",
        "np.identity(5)"
      ],
      "metadata": {
        "colab": {
          "base_uri": "https://localhost:8080/"
        },
        "id": "QUkx54SqQJ5m",
        "outputId": "2cc2b9e7-7012-4d57-cb93-8216bde39a53"
      },
      "execution_count": 91,
      "outputs": [
        {
          "output_type": "execute_result",
          "data": {
            "text/plain": [
              "array([[1., 0., 0., 0., 0.],\n",
              "       [0., 1., 0., 0., 0.],\n",
              "       [0., 0., 1., 0., 0.],\n",
              "       [0., 0., 0., 1., 0.],\n",
              "       [0., 0., 0., 0., 1.]])"
            ]
          },
          "metadata": {},
          "execution_count": 91
        }
      ]
    },
    {
      "cell_type": "code",
      "source": [
        "#repeat the array\n",
        "arr = np.array([[1,2,3]])\n",
        "rp = np.repeat(arr,3,axis=0)\n",
        "print(rp)"
      ],
      "metadata": {
        "colab": {
          "base_uri": "https://localhost:8080/"
        },
        "id": "BeT2HXJUQq2N",
        "outputId": "94047a76-15a5-4e16-fe96-c56840c7589d"
      },
      "execution_count": 103,
      "outputs": [
        {
          "output_type": "stream",
          "name": "stdout",
          "text": [
            "[[1 2 3]\n",
            " [1 2 3]\n",
            " [1 2 3]]\n"
          ]
        }
      ]
    },
    {
      "cell_type": "code",
      "source": [],
      "metadata": {
        "id": "LY0kbaLNQ8Ap"
      },
      "execution_count": null,
      "outputs": []
    }
  ]
}